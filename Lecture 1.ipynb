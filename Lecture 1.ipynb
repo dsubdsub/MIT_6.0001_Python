{
 "cells": [
  {
   "cell_type": "markdown",
   "id": "ffbf45d4",
   "metadata": {},
   "source": [
    "# Contents \n",
    "\n",
    "[1 Requirements](#1-requirements)  \n",
    "[2 Root square deduction](#2-root-square-deduction)  \n",
    "[3 Circle area calculation](#3-circle-area-calculation)  \n",
    "[4 PS0: Raising a number to a power and taking a logarithm](#4-ps0:-raising-a-number-to-a-power-and-taking-a-logarithm)  "
   ]
  },
  {
   "cell_type": "markdown",
   "id": "56849710",
   "metadata": {},
   "source": [
    "## 1 Requirements"
   ]
  },
  {
   "cell_type": "code",
   "execution_count": 5,
   "id": "c858006d",
   "metadata": {},
   "outputs": [],
   "source": [
    "import numpy\n",
    "import math"
   ]
  },
  {
   "cell_type": "markdown",
   "id": "ed6e4d5a",
   "metadata": {},
   "source": [
    "## 2 Root square deduction\n",
    "\n",
    "This program was developed based on the *declarative knowledge* presented in the following statement of fact:  \n",
    "**Square root of a number \"x\" is \"y\" such that \"y * y = x\"**\n",
    "\n",
    "The following four steps represent the *imperative knowledge*:  \n",
    "1 - Start with a guess \"g\"  \n",
    "2 - If \"g * g\" is close enough to \"x\", stop and say \"g\" is the answer   \n",
    "3 - Otherwise make a new guess by averaging \"g\" and \"x/g\"  \n",
    "4 - Using the new guess, repeat process until close enough"
   ]
  },
  {
   "cell_type": "markdown",
   "id": "72e72a64",
   "metadata": {},
   "source": [
    "|No important code| A first loop is created to restart or exit the program, depending on the user's decision in the end. \n",
    "After the first attempt, the user must choose between \"0\" and \"1\". If they enter \"0\", then the the program continues in the loop. If they enter \"1\", then the loop is not executed and the program ends."
   ]
  },
  {
   "cell_type": "code",
   "execution_count": null,
   "id": "69125d24",
   "metadata": {},
   "outputs": [],
   "source": [
    "restart=0\n",
    "while restart==0:\n",
    "    print(\"\\nPROGRAM TO DEDUCE THE SQUARE ROOT OF A NUMBER\\n\")"
   ]
  },
  {
   "cell_type": "markdown",
   "id": "7494c45f",
   "metadata": {},
   "source": [
    "|Asking for a \"x\"| A second loop has been created to run until the user provides a suitable input \"x\". If the user enters a float input, then the program proceeds. If not, the user receives a warning and can enter a correct value. "
   ]
  },
  {
   "cell_type": "code",
   "execution_count": 2,
   "id": "9b42b41f",
   "metadata": {},
   "outputs": [
    {
     "name": "stdout",
     "output_type": "stream",
     "text": [
      "\n",
      "Enter a positive number you want to get the square root of: j\n",
      "Try again and enter a valid number, please.\n",
      "\n",
      "\n",
      "Enter a positive number you want to get the square root of: -9\n",
      "It is not possible to get a square root of a negative number.\n",
      "\n",
      "Enter a positive number you want to get the square root of: 95.8\n",
      "You choose the number 95.8. I'm glad, this is a valid input.\n"
     ]
    }
   ],
   "source": [
    "    while True:\n",
    "        try:\n",
    "            x = float(input(\"\\nEnter a positive number you want to get the square root of: \"))\n",
    "            if x>=0:\n",
    "                print(f\"You choose the number {x}. I'm glad, this is a valid input.\")\n",
    "                break\n",
    "            else:\n",
    "                print(\"It is not possible to get a square root of a negative number.\")\n",
    "        except ValueError:\n",
    "            print(\"Try again and enter a valid number, please.\\n\")"
   ]
  },
  {
   "cell_type": "markdown",
   "id": "55e7eca9",
   "metadata": {},
   "source": [
    "|Step 1| For the initial guess, 'g' is set to an value \"1\"."
   ]
  },
  {
   "cell_type": "code",
   "execution_count": 3,
   "id": "6020c0c0",
   "metadata": {},
   "outputs": [],
   "source": [
    "    g = 1"
   ]
  },
  {
   "cell_type": "markdown",
   "id": "ddbbe3bc",
   "metadata": {},
   "source": [
    "|Step 2| Inside the 'If' statement, the value 'g * g' is first compared to the 'x' value, considering an approximation of 0.0001 upwards and downwards. If this condition is met, then 'square_root' is set to the value of 'g', and the user can read the square root of 'x' and decide whether to restart or quit, according to what was explained in the first loop.  \n",
    "\n",
    "|Step 3| If this first condition is not met, then the program follows the \"Else\" command. Now, the \"g\" receives the averege between \"g\" and \"x/g\". That's why it's not correct to set 'g' as '0', since you can't have division by zero.\n",
    "\n",
    "|Step 4| Thus, this loop runs with new guesses for 'g' until the 'If' statement is met."
   ]
  },
  {
   "cell_type": "code",
   "execution_count": 4,
   "id": "45a17a41",
   "metadata": {},
   "outputs": [
    {
     "name": "stdout",
     "output_type": "stream",
     "text": [
      "\n",
      "The rough square root of 95.8 is 9.78775.\n",
      "\n",
      "0 - Restart\n",
      "1 - Quit\n",
      "4\n",
      "Use only '0' or '1' to choose.\n",
      "\n",
      "0 - Restart\n",
      "1 - Quit\n",
      "1\n"
     ]
    }
   ],
   "source": [
    "    flag=0\n",
    "    while flag==0:\n",
    "        if g*g >= x-0.0001 and g*g <= x + 0.0001:\n",
    "            flag=1\n",
    "            square_root = g\n",
    "            print(f\"\\nThe rough square root of {x} is {square_root:.5f}.\\n\")\n",
    "            while True:\n",
    "                try:\n",
    "                    restart=int(input(\"0 - Restart\\n1 - Quit\\n\"))\n",
    "                    if restart==0 or restart==1:\n",
    "                        break\n",
    "                    else:\n",
    "                        print(\"Use only '0' or '1' to choose.\\n\")\n",
    "                except ValueError:\n",
    "                    print(\"Use only '0' or '1' to choose.\\n\")\n",
    "        else:\n",
    "            g = np.mean([g,(x/g)])"
   ]
  },
  {
   "cell_type": "markdown",
   "id": "b46c814e",
   "metadata": {},
   "source": [
    "## 3 Circle area calculation\n",
    "\n",
    "This program was developed based on the *declarative knowledge* presented in the following statement of fact:  \n",
    "**area of a circle = pi * radius^2**\n",
    "\n",
    "The following two steps represent the *imperative knowledge*:  \n",
    "1 - Ask for a radius value  \n",
    "2 - Calculate the area of a circle using the equation   "
   ]
  },
  {
   "cell_type": "markdown",
   "id": "25db5219",
   "metadata": {},
   "source": [
    "|Not important code| Similar logical from program before."
   ]
  },
  {
   "cell_type": "code",
   "execution_count": null,
   "id": "21bbe29b",
   "metadata": {},
   "outputs": [],
   "source": [
    "restart=0\n",
    "while restart==0:\n",
    "    print(\"\\nPROGRAM TO CALCULATE THE AREA OF A CIRCLE\\n\")"
   ]
  },
  {
   "cell_type": "markdown",
   "id": "adeaeb7d",
   "metadata": {},
   "source": [
    "|Step 1| A second loop has been created to run until the user provides a suitable input \"radius\". If the user enters a float and positive input, then the program proceeds. If not, the user receives a warning and can enter a correct value."
   ]
  },
  {
   "cell_type": "code",
   "execution_count": 6,
   "id": "4b6154bf",
   "metadata": {},
   "outputs": [
    {
     "name": "stdout",
     "output_type": "stream",
     "text": [
      "Enter the radius of the circle: -9\n",
      "The radius value can't be negative.\n",
      "\n",
      "Enter the radius of the circle: op\n",
      "Try again and enter a valid radius, please.\n",
      "\n",
      "Enter the radius of the circle: 0.98\n",
      "You choose the radius 0.98. I'm glad, this is a valid input.\n"
     ]
    }
   ],
   "source": [
    "    while True:\n",
    "        try:\n",
    "            radius = float(input(\"Enter the radius of the circle: \"))\n",
    "            if radius >= 0:\n",
    "                print(f\"You choose the radius {radius}. I'm glad, this is a valid input.\")\n",
    "                break\n",
    "            else:\n",
    "                print(\"The radius value can't be negative.\\n\")\n",
    "        except ValueError:\n",
    "            print(\"Try again and enter a valid radius, please.\\n\")"
   ]
  },
  {
   "cell_type": "markdown",
   "id": "686c75d4",
   "metadata": {},
   "source": [
    "|Step 2| Utilizing the previously mentioned equation, the program calculates the area of the circle based on the provided radius value. Subsequently, the user decides whether to restart or quit, as explained earlier."
   ]
  },
  {
   "cell_type": "code",
   "execution_count": 10,
   "id": "9a2cf7d2",
   "metadata": {},
   "outputs": [
    {
     "name": "stdout",
     "output_type": "stream",
     "text": [
      "The area of a circle of radius 0.98 is roughly 3.017.\n",
      "\n",
      "0 - Restart\n",
      "1 - Quit\n",
      "1\n"
     ]
    }
   ],
   "source": [
    "    circle_area = math.pi*(radius**2)\n",
    "    print(f\"The area of a circle of radius {radius} is roughly {circle_area:.3f}.\\n\")\n",
    "    while True:\n",
    "        try:\n",
    "            restart=int(input(\"0 - Restart\\n1 - Quit\\n\"))\n",
    "            if restart==0 or restart==1:\n",
    "                break\n",
    "            else:\n",
    "                print(\"Use only '0' or '1' to choose.\\n\")\n",
    "        except ValueError:\n",
    "            print(\"Use only '0' or '1' to choose.\\n\")"
   ]
  },
  {
   "cell_type": "markdown",
   "id": "24b915d6",
   "metadata": {},
   "source": [
    "## 4 PS0: Raising a number to a power and taking a logarithm \n",
    "\n",
    "This program was developed based on the declarative knowledge presented in the following statement of fact: \n",
    "**x^y = x * x * x ... y times** \n",
    "**log x (base 2) = a => 2^a = x, for x>0 ** \n",
    "\n",
    "The following two steps represent the imperative knowledge:\n",
    "1 - Ask for a number 'x' and number 'y'\n",
    "2 - Calculate the 'x^y'\n",
    "3 - Calculate the log (x), base 2"
   ]
  },
  {
   "cell_type": "markdown",
   "id": "bba5d94f",
   "metadata": {},
   "source": [
    "|Not important code| Similar logical from programs before."
   ]
  },
  {
   "cell_type": "code",
   "execution_count": null,
   "id": "f5408d03",
   "metadata": {},
   "outputs": [],
   "source": [
    "restart=0\n",
    "while restart==0:\n",
    "    print(\"\\nps0 - Raising a number to a power and taking a logarithm\\n\")"
   ]
  },
  {
   "cell_type": "markdown",
   "id": "595972c1",
   "metadata": {},
   "source": [
    "|Step 1| A second loop has been created to run until the user provides a suitable inputs \"x\" and \"y\". If the user enters floats, then the program proceeds. If not, the user receives a warning and can enter correct values."
   ]
  },
  {
   "cell_type": "code",
   "execution_count": 2,
   "id": "0ca0c9a0",
   "metadata": {},
   "outputs": [
    {
     "name": "stdout",
     "output_type": "stream",
     "text": [
      "Enter a number x: -9\n",
      "Enter a number y: 4\n"
     ]
    }
   ],
   "source": [
    "    while True:\n",
    "            try:\n",
    "                x = float(input(\"Enter a number x: \"))\n",
    "                break\n",
    "            except ValueError:\n",
    "                print(\"Try again and enter a valid number, please.\\n\")\n",
    "    while True:\n",
    "            try:\n",
    "                y = float(input(\"Enter a number y: \"))\n",
    "                break\n",
    "            except ValueError:\n",
    "                print(\"Try again and enter a valid number, please.\\n\")"
   ]
  },
  {
   "cell_type": "markdown",
   "id": "e5352583",
   "metadata": {},
   "source": [
    "|Step 2| Utilizing the previously mentioned statement, a special function from numpy calculates the 'x^y' value. It's possible to notice that if the user enters a negative number for 'x', then the program reads it '(-x)', and if the 'y' is an even number, the answer will be a positive number. It's not correct wait for the program to read '-(x)'."
   ]
  },
  {
   "cell_type": "code",
   "execution_count": 6,
   "id": "50f243c5",
   "metadata": {},
   "outputs": [
    {
     "name": "stdout",
     "output_type": "stream",
     "text": [
      "\n",
      "The number -9.0 raised to the power 4.0 = 6561.0\n"
     ]
    }
   ],
   "source": [
    "    print(f\"\\nThe number {x} raised to the power {y} = {numpy.power(x,y)}\")"
   ]
  },
  {
   "cell_type": "markdown",
   "id": "295a51a5",
   "metadata": {},
   "source": [
    "|Step 3| Utilizing the previously mentioned statement, a special function from numpy calculates the base 2 logarithm of 'x' value. However, the number 'x' must respect the condition 'x > 0'. Subsequently, the user decides whether to restart or quit, as explained earlier."
   ]
  },
  {
   "cell_type": "code",
   "execution_count": 10,
   "id": "69ad2bbc",
   "metadata": {},
   "outputs": [
    {
     "name": "stdout",
     "output_type": "stream",
     "text": [
      "It is not possible to obtain the log of '0' or a negative number.\n",
      "\n",
      "0 - Restart\n",
      "1 - Quit\n",
      "1\n"
     ]
    }
   ],
   "source": [
    "    if x>0:\n",
    "        print(f\"The log (base 2) of {x} = {numpy.log2(x)}\\n\")\n",
    "    else:\n",
    "        print(\"It is not possible to obtain the log of '0' or a negative number.\\n\")\n",
    "    while True:\n",
    "        try:\n",
    "            restart=int(input(\"0 - Restart\\n1 - Quit\\n\"))\n",
    "            if restart==0 or restart==1:\n",
    "                break\n",
    "            else:\n",
    "                print(\"Use only '0' or '1' to choose.\\n\")\n",
    "        except ValueError:\n",
    "            print(\"Use only '0' or '1' to choose.\\n\")"
   ]
  }
 ],
 "metadata": {
  "kernelspec": {
   "display_name": "Python 3 (ipykernel)",
   "language": "python",
   "name": "python3"
  },
  "language_info": {
   "codemirror_mode": {
    "name": "ipython",
    "version": 3
   },
   "file_extension": ".py",
   "mimetype": "text/x-python",
   "name": "python",
   "nbconvert_exporter": "python",
   "pygments_lexer": "ipython3",
   "version": "3.11.5"
  }
 },
 "nbformat": 4,
 "nbformat_minor": 5
}
