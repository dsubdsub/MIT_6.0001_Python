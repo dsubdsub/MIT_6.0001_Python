{
 "cells": [
  {
   "cell_type": "markdown",
   "id": "986a8f66",
   "metadata": {},
   "source": [
    "# Contents\n",
    "\n",
    "[1 Requirements](#1-requirements)  \n",
    "[2 PS1 - Part A: house hunting](#2-PS1-Part-A-:-house-hunting)  \n",
    "[3 PS1 Part B: saving, with a raise](#3-PS1-Part-B-:-saving-,-with-a-raise)  \n",
    "[4 PS1 Part C: finding the right amount to save away](#4-PS1-Part-C-:-finding-the-right-amount-to-save-away)  "
   ]
  },
  {
   "cell_type": "markdown",
   "id": "781cc03e",
   "metadata": {},
   "source": [
    "## 1 Requirements\n",
    "\n",
    "None"
   ]
  },
  {
   "cell_type": "markdown",
   "id": "6d97aa96",
   "metadata": {},
   "source": [
    "## 2 PS1 Part A: house hunting"
   ]
  },
  {
   "cell_type": "markdown",
   "id": "4440f6fb",
   "metadata": {},
   "source": [
    "First, the user must enter the values for the annual salary, the percentage of the salary to save, and the total cost of the house."
   ]
  },
  {
   "cell_type": "code",
   "execution_count": 18,
   "id": "8d3746f3",
   "metadata": {},
   "outputs": [
    {
     "name": "stdout",
     "output_type": "stream",
     "text": [
      "\n",
      "HOUSE HUNTING\n",
      "\n",
      "1. Enter your annual salary: 80000\n",
      "2. Enter the percent of your salary to save, as a decimal: 0.15\n",
      "3. Enter the cost of your dream home: 500000\n"
     ]
    }
   ],
   "source": [
    "print(\"\\nHOUSE HUNTING\")\n",
    "annual_salary = float(input(\"\\n1. Enter your annual salary: \"))\n",
    "portion_saved = float(input(\"2. Enter the percent of your salary to save, as a decimal: \"))\n",
    "total_cost = float(input(\"3. Enter the cost of your dream home: \"))"
   ]
  },
  {
   "cell_type": "markdown",
   "id": "0a852987",
   "metadata": {},
   "source": [
    "The constant literals are set, as defined by the problem. The \"portion_down_payment\" is defined as 25% of the total house cost and the \"r\" represents a 4% annual return on savings. Futhermore, let's set both the current savings and the number of months variables to zero.  "
   ]
  },
  {
   "cell_type": "code",
   "execution_count": 19,
   "id": "958967a6",
   "metadata": {},
   "outputs": [],
   "source": [
    "# constants\n",
    "portion_down_payment = 0.25\n",
    "r = 0.04\n",
    "\n",
    "# variables\n",
    "current_savings, month = 0, 0"
   ]
  },
  {
   "cell_type": "markdown",
   "id": "b459bdaa",
   "metadata": {},
   "source": [
    "A simple equation exists to calculate \"current_savings.\" Essentially, you add to it the amount coming from the investment return (in this case, divided by 12 to obtain the monthly value) and the amount saved from the annual salary (also divided by 12, for the same reason). The loop will cease to function as soon as \"current_savings\" surpasses the down payment amount. \n",
    "\n",
    "The \"month\" variable functions as a counter, adding one to itself until the expected value is reached. Thus, it provides the number of months required to accumulate the down payment for the house."
   ]
  },
  {
   "cell_type": "code",
   "execution_count": 20,
   "id": "170f6c6f",
   "metadata": {},
   "outputs": [
    {
     "name": "stdout",
     "output_type": "stream",
     "text": [
      "\n",
      "Number of months: 105\n"
     ]
    }
   ],
   "source": [
    "while current_savings < total_cost*portion_down_payment:\n",
    "    current_savings += (current_savings*r/12) + (portion_saved*annual_salary)/12\n",
    "    month += 1\n",
    "\n",
    "print(f\"\\nNumber of months: {month}\")"
   ]
  },
  {
   "cell_type": "markdown",
   "id": "c7d6a659",
   "metadata": {},
   "source": [
    "## 3 PS1 Part B: saving, with a raise"
   ]
  },
  {
   "cell_type": "markdown",
   "id": "6035b4ae",
   "metadata": {},
   "source": [
    "First, the user must enter the values for the annual salary, the percentage of the salary to save, the total cost of the house and the percentage of the semi annual raise. "
   ]
  },
  {
   "cell_type": "code",
   "execution_count": 21,
   "id": "10302ec0",
   "metadata": {},
   "outputs": [
    {
     "name": "stdout",
     "output_type": "stream",
     "text": [
      "\n",
      "HOUSE HUNTING - SAVING WITH A RAISE\n",
      "\n",
      "1. Enter your annual salary: 75000\n",
      "2. Enter the percent of your salary to save, as a decimal: 0.05\n",
      "3. Enter the cost of your dream home: 1500000\n",
      "4. Enter the semi annual raise, as a decimal: 0.05\n"
     ]
    }
   ],
   "source": [
    "print(\"\\nHOUSE HUNTING - SAVING WITH A RAISE\")\n",
    "annual_salary = float(input(\"\\n1. Enter your annual salary: \"))\n",
    "portion_saved = float(input(\"2. Enter the percent of your salary to save, as a decimal: \"))\n",
    "total_cost = float(input(\"3. Enter the cost of your dream home: \"))\n",
    "semi_annual_raise = float(input(\"4. Enter the semi annual raise, as a decimal: \"))"
   ]
  },
  {
   "cell_type": "markdown",
   "id": "54d6851d",
   "metadata": {},
   "source": [
    "The constant literals are set, as defined by the problem. The \"portion_down_payment\" is defined as 25% of the total house cost and the \"r\" represents a 4% annual return on savings. Futhermore, let's set both the current savings and the number of months variables to zero."
   ]
  },
  {
   "cell_type": "code",
   "execution_count": 22,
   "id": "e0b72635",
   "metadata": {},
   "outputs": [],
   "source": [
    "# constants\n",
    "portion_down_payment = 0.25\n",
    "r = 0.04\n",
    "\n",
    "# variables\n",
    "current_savings, month = 0, 0"
   ]
  },
  {
   "cell_type": "markdown",
   "id": "7dcb3f70",
   "metadata": {},
   "source": [
    "Now, it was necessary to add a condition to effectuate a salary increase every six months. The \"while\" loop will function as described previously. However, whenever the division of \"month\" (greater than zero) by \"6\" results in a remainder of zero, the program will execute an increase in the annual salary based on the defined percentage for the raise. The condition set for the \"if\" statement means that every time the current month is a multiple of six, it is understood to be a semester."
   ]
  },
  {
   "cell_type": "code",
   "execution_count": 23,
   "id": "be73ccd5",
   "metadata": {},
   "outputs": [
    {
     "name": "stdout",
     "output_type": "stream",
     "text": [
      "\n",
      "Number of months: 261\n"
     ]
    }
   ],
   "source": [
    "while current_savings < total_cost*portion_down_payment:\n",
    "    current_savings += (current_savings*r/12) + ((portion_saved*annual_salary)/12)\n",
    "    month += 1\n",
    "    #Loop for the raise\n",
    "    if month%6 == 0 and month > 0:\n",
    "        annual_salary += annual_salary*semi_annual_raise\n",
    "\n",
    "print(f\"\\nNumber of months: {month}\")"
   ]
  },
  {
   "cell_type": "markdown",
   "id": "3e6ed428",
   "metadata": {},
   "source": [
    "## 4 PS1 Part C: finding the right amount to save away"
   ]
  },
  {
   "cell_type": "markdown",
   "id": "6b138fd6",
   "metadata": {},
   "source": [
    "First, the user must enter the value for the annual salary only."
   ]
  },
  {
   "cell_type": "code",
   "execution_count": 14,
   "id": "f3ac3a0c",
   "metadata": {},
   "outputs": [
    {
     "name": "stdout",
     "output_type": "stream",
     "text": [
      "\n",
      "HOUSE HUNTING - FINDINF THE RIGHT AMOUNT TO SAVE AWAY\n",
      "\n",
      "1. Enter your annual salary: 300000\n"
     ]
    }
   ],
   "source": [
    "print(\"\\nHOUSE HUNTING - FINDINF THE RIGHT AMOUNT TO SAVE AWAY\"),\n",
    "annual_salary = float(input(\"\\n1. Enter your annual salary: \"))"
   ]
  },
  {
   "cell_type": "markdown",
   "id": "2942d90b",
   "metadata": {},
   "source": [
    "The constant literals are set, as defined by the problem. The variable \"high\" is set to 10000, as this is equivalent to 100%, since it was decided to work with intenger numbers within the bisection method, and only afterwards will the values be converted to their corresponding two-decimal places decimals.\n",
    "\n",
    "As is known, the variable \"guess\" receives the average of low and high."
   ]
  },
  {
   "cell_type": "code",
   "execution_count": 15,
   "id": "3831908e",
   "metadata": {},
   "outputs": [],
   "source": [
    "# constants\n",
    "total_cost = 1000000\n",
    "semi_annual_raise = 0.07\n",
    "portion_down_payment = 0.25\n",
    "r = 0.04\n",
    "tolerance = 100\n",
    "\n",
    "# variables\n",
    "current_savings, steps, month = 0, 0, 0\n",
    "\n",
    "# bisection process\n",
    "low = 0\n",
    "high = 10000\n",
    "guess = int((high + low)/2)"
   ]
  },
  {
   "cell_type": "markdown",
   "id": "e786f3bc",
   "metadata": {},
   "source": [
    "It is necessary to check if it is possible to reach the down payment with the received annual salary. For this, we will consider that 100% of the salary value will be saved. The number of months is already pre-established at 36 (3 years). As in previous programs, \"current_savings\" and the semi-annual salary increase are calculated. If the condition of the \"if\" statement is met, the program will send a message informing about the impossibility of making the savings. Otherwise, the content of the \"else\" will be executed."
   ]
  },
  {
   "cell_type": "markdown",
   "id": "12283331",
   "metadata": {},
   "source": [
    "Note that the same logic will be used to obtain the desired value of \"current_saving.\" However, instead of using 100% of the salary as savings, we now have a variable called \"percent_monthly_salary,\" which will be processed through the bisection method until the stopping condition established by the problem is met. The bisection method will not be different here. With each loop, it halves the interval and approaches the expected value."
   ]
  },
  {
   "cell_type": "code",
   "execution_count": 16,
   "id": "7b412fb2",
   "metadata": {},
   "outputs": [],
   "source": [
    "#Block to check if it is possible to obtain the down payment from the annual salary\n",
    "aux_annual_salary = annual_salary\n",
    "percent_monthly_salary = high\n",
    "\n",
    "# Loop to calculate the total savings considering 100% of the salary  \n",
    "for month in range(36):\n",
    "    # loop for the raise\n",
    "    if month%6 == 0 and month > 0:\n",
    "        aux_annual_salary += aux_annual_salary*semi_annual_raise\n",
    "    current_savings += (r/12)*current_savings + ((aux_annual_salary*(percent_monthly_salary/10000))/12)\n",
    "    \n",
    "if current_savings < (total_cost*portion_down_payment - tolerance):\n",
    "    print('\\nIt is not possible to pay the down payment in three years.')\n",
    "    print ('Come on, maaaan! You should listen to ZrZ and win the lottery xD .')\n",
    "    \n",
    "#Block to calculate \"current_savings\" based on the values of the \"percent_monthly_salary\" variable   \n",
    "else: \n",
    "    while abs(current_savings - total_cost*portion_down_payment) >= tolerance:\n",
    "        steps += 1\n",
    "    \n",
    "        # variables\n",
    "        current_savings = 0\n",
    "        aux_annual_salary = annual_salary\n",
    "        percent_monthly_salary = guess\n",
    "        \n",
    "        for month in range(36):\n",
    "            # loop for the raise\n",
    "            if month%6 == 0 and month > 0:\n",
    "                aux_annual_salary += aux_annual_salary*semi_annual_raise\n",
    "        \n",
    "            current_savings += (r/12)*current_savings + ((aux_annual_salary*(percent_monthly_salary/10000))/12)\n",
    "        \n",
    "        # bisection process\n",
    "        if current_savings > total_cost*portion_down_payment:\n",
    "            high = percent_monthly_salary\n",
    "        else:\n",
    "            low = percent_monthly_salary\n",
    "    \n",
    "        guess = int((high + low)/2)"
   ]
  },
  {
   "cell_type": "markdown",
   "id": "cb0c79c8",
   "metadata": {},
   "source": [
    "Finally, when \"current_savings\" is within the defined value and its tolerance, it will be possible to print the best savings rate and the number of steps in bisection search."
   ]
  },
  {
   "cell_type": "code",
   "execution_count": 17,
   "id": "9a4e22dd",
   "metadata": {},
   "outputs": [
    {
     "name": "stdout",
     "output_type": "stream",
     "text": [
      "\n",
      "Best savings rate: 0.2206\n",
      "Steps in bisection search: 9\n"
     ]
    }
   ],
   "source": [
    "    print('\\nBest savings rate:', percent_monthly_salary/10000)\n",
    "    print('Steps in bisection search:', steps)"
   ]
  }
 ],
 "metadata": {
  "kernelspec": {
   "display_name": "Python 3 (ipykernel)",
   "language": "python",
   "name": "python3"
  },
  "language_info": {
   "codemirror_mode": {
    "name": "ipython",
    "version": 3
   },
   "file_extension": ".py",
   "mimetype": "text/x-python",
   "name": "python",
   "nbconvert_exporter": "python",
   "pygments_lexer": "ipython3",
   "version": "3.11.5"
  }
 },
 "nbformat": 4,
 "nbformat_minor": 5
}
